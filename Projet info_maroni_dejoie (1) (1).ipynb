{
 "cells": [
  {
   "cell_type": "markdown",
   "metadata": {},
   "source": [
    "# Projet Numérique 3\n"
   ]
  },
  {
   "cell_type": "markdown",
   "metadata": {},
   "source": [
    "## Questions théoriques"
   ]
  },
  {
   "cell_type": "markdown",
   "metadata": {},
   "source": [
    "1) Le théorème du cours qui nous autorsie à estimer l'espérance conditionnelle par la moyenne empririque des simulations conditionnelles et la loi des grands nombres que l'on peut appliquer ici car les simulations de la profondeur de câble réalisées sont indépedantes, de même loi et intégrables. Ainsi, on estime $L$ par $L^{*}=\\frac{1}{K} \\sum_{k=1}^{K} l_{(k)}$"
   ]
  },
  {
   "cell_type": "markdown",
   "metadata": {},
   "source": [
    "2) Pour trouver la loi conditionnelle du vecteur des composantes de Z correspondant aux points de discrétisation sans observation, connaissant les valeurs prises par les composantes aux sites d'observation, on utilise les résultats du cours Probabilite IV sur les lois conditionnelles pour les vecteurs Gaussiens à densité."
   ]
  },
  {
   "cell_type": "markdown",
   "metadata": {},
   "source": [
    "Notons $Z_{i}$ le vecteur des composantes inconnues\n",
    "\n",
    "Notons $Z_{c}$ le vecteur des composantes connues (car observées) \n",
    "\n",
    "On cherche donc $f_{Z_{i}, Z_{c}=z_{c}}$\n",
    "\n",
    "\n",
    "$\n",
    "\\begin{aligned}\n",
    "\\text {Notons } C_{Z_{i}} &=\\operatorname{Cov}\\left(Z_{i}, Z_{i}\\right) \\\\\n",
    "C_{Z_{c}} &=\\operatorname{Cov}\\left(Z_{c}, Z_{c}\\right) \\\\\n",
    "C_{Z_{i}, Z_{c}} &=\\operatorname{Cov}\\left(Z_{i}, Z_{c}\\right)\\\\\n",
    "\\end{aligned}\n",
    "$\n",
    "\n",
    "\n",
    "$\\mathrm{CS}_{Z_{i}}$ le complément de Schur de la matrice $C_{Z_{i}}$ \n",
    "\n",
    "Alors on sait que:\n",
    "\n",
    "$$\n",
    "\\begin{aligned}\n",
    "&f_{Z_{i} | Z_{c} = z_{c}}\\left(z_{i}\\right)=\\frac{1}{(2 \\pi)^{k / 2} \\sqrt{\\operatorname{det}\\left(CS_{Z_{i}}\\right)}} \\exp \\left(-\\frac{1}{2}\\left(z_{i}-\\psi\\left(z_{c}\\right)\\right)^{t} \\operatorname{CS}_{Z_{i}}^{-1}\\left(z_{i}-\\psi\\left(z_{c}\\right)\\right)\\right)\\\\\n",
    "\\end{aligned}\n",
    "$$\n",
    "\n",
    "$\n",
    "\\begin{aligned}\n",
    "&avec :\\\\\n",
    "&CS_{Z_{i}}=C_{Z_{i}}-C_{Z_{i}, Z_{c}} C_{Z_{c}}^{-1} C_{Z_{c}, Z_{i}}\\\\\n",
    "&\\psi\\left(z_{c}\\right)=m_{Z_{i} | Z_{c}=z_{c}}=m_{Z_{i}} - C_{Z_{i}, Z_{c}} C_{Z_{c}}^{-1}\\left(Z_{c}-m_{Z_{c}}\\right)\n",
    "\\end{aligned}\n",
    "$\n",
    "\n",
    "\n",
    "Autrement dit la variable aléatoire $\\mathbf{Z_{i}}|\\mathbf{Z_{c}}=z_{c}$ suit une loi gaussienne d'espérance $m_{Z_{i}} - C_{Z_{i}, Z_{c}} C_{Z_{c}}^{-1}\\left(Z_{c}-m_{Z_{c}}\\right)$ et de matrice de covariance $C_{Z_{i}}-C_{Z_{i}, Z_{c}} C_{Z_{c}}^{-1} C_{Z_{c}, Z_{i}}$"
   ]
  },
  {
   "cell_type": "markdown",
   "metadata": {},
   "source": [
    "3)\n",
    "Soit Y = ($Y_{1}$ ... $Y_{p}$) un vecteur de composantes gausiennes indépendantes, toutes d'espérance nulle et de variance 1.\n",
    "\n",
    "Soit R une matrice p x p, soit m un vecteur de taille p.\n",
    "\n",
    "Notons $\\phi_{X}$, la fonction caractéristique de X, vecteur valeurs dans $\\mathbb{R}^{p}$.\n",
    "\n",
    "Posons $Z=m+RY$\n",
    "\n",
    "Alors, par propriété de transformation linéaire : \n",
    "$$\n",
    "\\phi_{Z}=\\phi_{m+RY}\n",
    "$$\n",
    "$$\n",
    "\\phi_{m+RY}(u)=\\exp (i <u, m>) \\phi_{Y}\\left(R^{t} u\\right) \\quad \\forall u \\in \\mathbb{R}^{p}\n",
    "$$\n",
    "\n",
    "Or on sait que la fonction caractéristique $\\phi_{Z}$ caractérise la loi du vecteur aléatoire Z. $Z$ est alors gaussien d'espérance $m$ et de matrice de covariance $RR^t$."
   ]
  },
  {
   "cell_type": "markdown",
   "metadata": {},
   "source": [
    "4) On  commence par calculer les matrices de covariances de $\\mathbf{Z_{i}}$, de $\\mathbf{Z_{c}}$ et $Cov(\\mathbf{Z_{i}},\\mathbf{Z_{c}})$. On peut ainsi calculer $CS_{Z_{i}}$\n",
    "\n",
    "\n",
    "On simule ensuite les N+1-n variables aléatoires gaussiennes centrées réduites à l'aide de la méthode de Box-Muller. Notons par exemple Y le vecteur aléatoire (gaussien) ayant pour composante chacune de ces variables aléatoires.\n",
    "\n",
    "On détermine la décomposition (de Cholesky par exemple) de $CS_{Z_{i}}=RR^{t}$ ,puis à l'aide de R et Y, la question 3 nous permet alors de construire $\\mathbf{Z_{i}}|\\mathbf{Z_{c}}=z$"
   ]
  },
  {
   "cell_type": "markdown",
   "metadata": {},
   "source": [
    "## Questions informatiques"
   ]
  },
  {
   "cell_type": "code",
   "execution_count": 1,
   "metadata": {},
   "outputs": [],
   "source": [
    "#Chargement des dépendances\n",
    "import numpy as np\n",
    "import math\n",
    "import matplotlib.pyplot as plt\n",
    "\n",
    "#Discrétisation\n",
    "A=0\n",
    "B=500\n",
    "N=101\n",
    "Delta = (B-A)/(N-1)\n",
    "discretization_indexes = np.arange(N)\n",
    "dicretization = discretization_indexes*Delta\n",
    "\n",
    "#Paramètre du modèle\n",
    "mu = -5\n",
    "a = 50\n",
    "sigma2 = 12\n",
    "\n",
    "#Données\n",
    "observation_indexes = [0, 20, 40, 60, 80, 100]\n",
    "depth = np.array([0, -4, -12.8, -1, -6.5, 0])\n",
    "\n",
    "#Indices des composantes correspondant aux observations et aux composantes non observées\n",
    "unknown_indexes=list(set(discretization_indexes)-set(observation_indexes))"
   ]
  },
  {
   "cell_type": "markdown",
   "metadata": {},
   "source": [
    "### Question 1"
   ]
  },
  {
   "cell_type": "code",
   "execution_count": 4,
   "metadata": {},
   "outputs": [],
   "source": [
    "#Pour un couple de points\n",
    "def cova(l, a, sigma2):\n",
    "    '''\n",
    "    Fonction qui retourne la covariance entre deux points\n",
    "    '''\n",
    "    return sigma2*np.exp(-l/a)\n",
    "\n",
    "#Pour une matrice de covariance\n",
    "def cova_mat(L, a, sigma2):\n",
    "    '''\n",
    "    Fonction qui retourne la matrice de covariance C à partir de la matrice des longueurs L\n",
    "    '''\n",
    "    n, m = np.shape(L)\n",
    "    C = np.zeros((n,m))\n",
    "    for i in range (n):\n",
    "        for j in range (m):\n",
    "            C[i][j] = cova(L[i][j], a, sigma2)\n",
    "    return C\n",
    "    "
   ]
  },
  {
   "cell_type": "markdown",
   "metadata": {},
   "source": [
    "### Question 2"
   ]
  },
  {
   "cell_type": "code",
   "execution_count": 35,
   "metadata": {},
   "outputs": [],
   "source": [
    "def mat_distance(N, Delta):\n",
    "    '''\n",
    "    Fonction qui renvoie la matrice des disatnces\n",
    "    '''\n",
    "    L = np.zeros((N, N))\n",
    "    for i in range (N):\n",
    "        for j in range (N):\n",
    "            L[i][j] = abs(i-j)*Delta\n",
    "    return L\n",
    "\n",
    "A=mat_distance(N, Delta)"
   ]
  },
  {
   "cell_type": "code",
   "execution_count": 36,
   "metadata": {},
   "outputs": [
    {
     "data": {
      "text/plain": [
       "array([[  0.,   5.,  10., ..., 490., 495., 500.],\n",
       "       [  5.,   0.,   5., ..., 485., 490., 495.],\n",
       "       [ 10.,   5.,   0., ..., 480., 485., 490.],\n",
       "       ...,\n",
       "       [490., 485., 480., ...,   0.,   5.,  10.],\n",
       "       [495., 490., 485., ...,   5.,   0.,   5.],\n",
       "       [500., 495., 490., ...,  10.,   5.,   0.]])"
      ]
     },
     "execution_count": 36,
     "metadata": {},
     "output_type": "execute_result"
    }
   ],
   "source": [
    "A"
   ]
  },
  {
   "cell_type": "markdown",
   "metadata": {},
   "source": [
    "### Question 3"
   ]
  },
  {
   "cell_type": "code",
   "execution_count": 38,
   "metadata": {},
   "outputs": [
    {
     "name": "stdout",
     "output_type": "stream",
     "text": [
      "[[1.20000000e+01 1.08580490e+01 9.82476904e+00 ... 6.65419193e-04\n",
      "  6.02096185e-04 5.44799157e-04]\n",
      " [1.08580490e+01 1.20000000e+01 1.08580490e+01 ... 7.35401941e-04\n",
      "  6.65419193e-04 6.02096185e-04]\n",
      " [9.82476904e+00 1.08580490e+01 1.20000000e+01 ... 8.12744838e-04\n",
      "  7.35401941e-04 6.65419193e-04]\n",
      " ...\n",
      " [6.65419193e-04 7.35401941e-04 8.12744838e-04 ... 1.20000000e+01\n",
      "  1.08580490e+01 9.82476904e+00]\n",
      " [6.02096185e-04 6.65419193e-04 7.35401941e-04 ... 1.08580490e+01\n",
      "  1.20000000e+01 1.08580490e+01]\n",
      " [5.44799157e-04 6.02096185e-04 6.65419193e-04 ... 9.82476904e+00\n",
      "  1.08580490e+01 1.20000000e+01]]\n"
     ]
    }
   ],
   "source": [
    "def cova_vecteur(N, Delta, a, sigma2): #pour les questions d'après\n",
    "    '''\n",
    "    covaraince d'un vecteur\n",
    "    '''\n",
    "    L = mat_distance(N, Delta)\n",
    "    return cova_mat(L, a, sigma2)\n",
    "\n",
    "B = cova_mat(A,a,sigma2)\n",
    "print(B)\n"
   ]
  },
  {
   "cell_type": "markdown",
   "metadata": {},
   "source": [
    "### Question 4"
   ]
  },
  {
   "cell_type": "code",
   "execution_count": 40,
   "metadata": {},
   "outputs": [],
   "source": [
    "#On définit 3 fonctions pour répondre à cette question\n",
    "\n",
    "\n",
    "def cova_known(observation_indexes, N, Delta, a, sigma2):\n",
    "    '''\n",
    "    Retourne la matrice de covariance entre les observations\n",
    "    '''\n",
    "    C = cova_vecteur(N, Delta, a, sigma2)\n",
    "    k = len(observation_indexes)\n",
    "    Cov_k = np.zeros((k, k))\n",
    "    for i in range(k):\n",
    "        for j in range(k):\n",
    "            Cov_k[i][j] = C[observation_indexes[i]][observation_indexes[j]]\n",
    "    return Cov_k\n",
    "\n",
    "def cova_unknown_and_known(observation_indexes, unknown_indexes, N, Delta, a, sigma2):\n",
    "    '''\n",
    "    Retourne la matrice de covariance entre les observations et les inconnues\n",
    "    '''\n",
    "    C = cova_vecteur(N, Delta, a, sigma2)\n",
    "    u = len(unknown_indexes)\n",
    "    k = len(observation_indexes)\n",
    "    Cov_u_k = np.zeros((u, k))\n",
    "    for i in range(u):\n",
    "        for j in range(k):\n",
    "            Cov_u_k[i][j] = C[unknown_indexes[i]][observation_indexes[j]]\n",
    "    return Cov_u_k\n",
    "\n",
    "\n",
    "\n",
    "\n",
    "\n",
    "def cova_unknown(unknown_indexes, N, Delta, a, sigma2):\n",
    "    '''\n",
    "    Retourne la matrice de covariance entre les inconnues\n",
    "    '''\n",
    "    C = cova_vecteur(N, Delta, a, sigma2)\n",
    "    u = len(unknown_indexes)\n",
    "    Cov_u = np.zeros((u, u))\n",
    "    for i in range(u):\n",
    "        for j in range(u):\n",
    "            Cov_u[j][i] = C[unknown_indexes[j]][unknown_indexes[i]]\n",
    "    return Cov_u\n",
    "\n",
    "C_c=cova_known(observation_indexes, N, Delta, a, sigma2)\n",
    "C_ci=cova_unknown_and_known(observation_indexes, unknown_indexes, N, Delta, a, sigma2)\n",
    "C_i=cova_unknown(unknown_indexes, N, Delta, a, sigma2)\n"
   ]
  },
  {
   "cell_type": "markdown",
   "metadata": {},
   "source": [
    "### Question 5"
   ]
  },
  {
   "cell_type": "markdown",
   "metadata": {},
   "source": [
    "D'après les résultats du cours Probabilite IV sur les lois conditionnelles pour les vecteurs Gaussiens à densité cités précédemment : \n",
    "\n",
    "$E\\left(Z_{i} | Z_{c}\\right)=\\phi\\left(Z_{c}\\right)=m_{Z_{i}}-C_{Z_{i}, Z_{c}} C_{Z_{c}}^{-1}\\left(Z_{c}-m_{Z_{c}}\\right)$\n"
   ]
  },
  {
   "cell_type": "code",
   "execution_count": 17,
   "metadata": {},
   "outputs": [],
   "source": [
    "def espérance_u_sachant_k(observation_indexes, unknown_indexes, N, Delta, a, sigma2, mu):\n",
    "    Cov_u_k = cova_unknown_and_known(observation_indexes, unknown_indexes, N, Delta, a, sigma2)\n",
    "    C_k_inv = np.linalg.inv(cova_known(observation_indexes, N, Delta, a, sigma2))\n",
    "    u = len(unknown_indexes)\n",
    "    k = len(observation_indexes)\n",
    "    m_u = np.array([mu]*u)\n",
    "    m_k = np.array([mu]*k)\n",
    "    return np.array(m_u + np.dot(Cov_u_k, np.dot(C_k_inv, (depth-m_k))))"
   ]
  },
  {
   "cell_type": "code",
   "execution_count": 34,
   "metadata": {},
   "outputs": [
    {
     "data": {
      "image/png": "[encoded data removed]",
      "text/plain": [
       "<Figure size 432x288 with 1 Axes>"
      ]
     },
     "metadata": {
      "needs_background": "light"
     },
     "output_type": "display_data"
    }
   ],
   "source": [
    "E = espérance_u_sachant_k(observation_indexes, unknown_indexes, N, Delta, a, sigma2, mu)\n",
    "\n",
    "plt.scatter(unknown_indexes,E,label=\"espérance conditionnelle\",color='y')\n",
    "plt.scatter(observation_indexes,depth,label=\"observations\",color='r')\n",
    "plt.title('Représentation de la profondeur en fonction de la position')\n",
    "plt.legend()\n",
    "plt.show()"
   ]
  },
  {
   "cell_type": "markdown",
   "metadata": {},
   "source": [
    "### Question 6\n",
    "\n",
    "On a vu dans le cours de Probabilités IV que la variable aléatoire $Z_{i}|Z_{c} = z_{c}$ a pour matrice de covariance $CS_{Z_{i}}=C_{Z_{i}}-C_{Z_{i}, Z_{c}} C_{Z_{c}}^{-1} C_{Z_{c}, Z_{i}}$.\n",
    "\n",
    "\n"
   ]
  },
  {
   "cell_type": "code",
   "execution_count": 33,
   "metadata": {},
   "outputs": [
    {
     "data": {
      "image/png": "[encoded data removed]",
      "text/plain": [
       "<Figure size 432x288 with 1 Axes>"
      ]
     },
     "metadata": {
      "needs_background": "light"
     },
     "output_type": "display_data"
    }
   ],
   "source": [
    "def variance_conditionnelle(observation_indexes, unknown_indexes, N, Delta, a, sigma2):\n",
    "    C_k = cova_known(observation_indexes, N, Delta, a, sigma2)\n",
    "    C_u = cova_unknown(unknown_indexes, N, Delta, a, sigma2)\n",
    "    C_uk = cova_unknown_and_known(observation_indexes, unknown_indexes, N, Delta, a, sigma2)\n",
    "    V = C_u - np.dot(np.dot(C_uk, np.linalg.inv(C_k)),np.transpose(C_uk))\n",
    "    return(V)\n",
    "\n",
    "    \n",
    "V = variance_conditionnelle(observation_indexes, unknown_indexes, N, Delta, a, sigma2)\n",
    "\n",
    "X = [i*Delta for i in unknown_indexes]\n",
    "Y = [V[i][i] for i in range(len(V[0]))]\n",
    "plt.plot(X,Y,'r')\n",
    "plt.title('Représentation de la variance en fonction de la position')\n",
    "plt.show()"
   ]
  },
  {
   "cell_type": "markdown",
   "metadata": {},
   "source": [
    "### Question 7\n",
    "\n",
    "D'après le cours de Probabilités IV et la question 2 de la partie théorique, la variable aléatoire $Z_{i}|Z_{c} = z_{c}$ suit une loi gaussienne d'espérance $\\psi\\left(z_{c}\\right)$ et de matrice de covariance $CS_{Z_{i}}=C_{Z_{i}}-C_{Z_{i}, Z_{c}} C_{Z_{c}}^{-1} C_{Z_{c}, Z_{i}}$.\n",
    "\n",
    "Notons $Z_{i}^{j}$ la $j^{ème}$ composante du vecteur $Z$. Elle suit une loi gaussienne d'espérance $m_{j} = \\psi\\left(z_{c}\\right)^{j}$ et de variance $\\sigma_{j}^{2} = CS_{Z_{i}}(j,j)$.\n",
    "\n",
    "On peut donc utiliser la méthode de **Box-Muller** pour simuler chacune des composantes du vecteur $Z_{i}$.\n",
    "\n",
    "Notons $U$ et $V$ deux variables aléatoires indépendantes de loi uniforme sur $]0,1[$.\n",
    "Alors la variable aléatoire $X = \\sqrt { -2\\ln(U)}\\cos(2\\pi V)$ suit une loi normale centrée réduite.\n",
    "\n",
    "Par combinaison linéaire de variables aléatoires gaussiennes indépendantes, $\\sigma_{j}X + m_{j}$ suit une loi normale d'espérance $m_{j}$ et de variance $\\sigma_{j}^{2}$ qui permet de simuler $Z_{i}^{j}$ ."
   ]
  },
  {
   "cell_type": "code",
   "execution_count": 31,
   "metadata": {},
   "outputs": [
    {
     "data": {
      "image/png": "[encoded data removed]",
      "text/plain": [
       "<Figure size 432x288 with 1 Axes>"
      ]
     },
     "metadata": {
      "needs_background": "light"
     },
     "output_type": "display_data"
    }
   ],
   "source": [
    "def simulation_conditionnelle(observation_indexes, unknown_indexes, N, Delta, a, sigma2, mu):\n",
    "    \n",
    "    E = espérance_u_sachant_k(observation_indexes, unknown_indexes, N, Delta, a, sigma2, mu)\n",
    "    V = variance_conditionnelle(observation_indexes, unknown_indexes, N, Delta, a, sigma2)\n",
    "    \n",
    "    simulation = []\n",
    "    \n",
    "    for i in range(len(unknown_indexes)):\n",
    "        A = np.random.random()\n",
    "        B = np.random.random()\n",
    "        X = np.sqrt(-2*np.log(A))*np.cos(2*np.pi*B)\n",
    "        \n",
    "        m = E[i]\n",
    "        sigma = np.sqrt(V[i][i])\n",
    "        \n",
    "        simulation.append(sigma*X+m)\n",
    "    return (simulation)\n",
    "        \n",
    "simulation = simulation_conditionnelle(observation_indexes, unknown_indexes, N, Delta, a, sigma2, mu)      \n",
    "\n",
    "plt.scatter(X,simulation,label=\"simulation\",color='y')\n",
    "plt.scatter(np.array(observation_indexes)*5,depth,label=\"observation\",color='r')\n",
    "plt.legend()\n",
    "plt.show()"
   ]
  },
  {
   "cell_type": "markdown",
   "metadata": {},
   "source": [
    "### Question 8"
   ]
  },
  {
   "cell_type": "code",
   "execution_count": 41,
   "metadata": {},
   "outputs": [],
   "source": [
    "def longueur_cable(Z, Delta):\n",
    "    '''\n",
    "    Fonction qui renvoie la longueur du cable\n",
    "    '''\n",
    "    l = 0\n",
    "    for i in range(len(Z)-1):\n",
    "        l += np.sqrt(Delta**2 + (Z[i+1]-Z[i])**2)\n",
    "    return l"
   ]
  },
  {
   "cell_type": "markdown",
   "metadata": {},
   "source": [
    "### Question 9"
   ]
  },
  {
   "cell_type": "code",
   "execution_count": 42,
   "metadata": {},
   "outputs": [],
   "source": [
    "def longueur_moy(observation_indexes, unknown_indexes, N, Delta, a, sigma2, mu, nbr):\n",
    "    l_moy = 0\n",
    "    for i in range(nbr):\n",
    "        Z = simulation_contionelle(observation_indexes, unknown_indexes, N, Delta, a, sigma2, mu)\n",
    "        l_moy += longueur_cable(Z, Delta)\n",
    "    return l_moy/nbr\n",
    "\n",
    "def moy_longueur(observation_indexes, unknown_indexes, N, Delta, a, sigma2, mu):\n",
    "    E = espérance_u_sachant_k(observation_indexes, unknown_indexes, N, Delta, a, sigma2, mu)\n",
    "    l = 0\n",
    "    for i in range(N):\n",
    "        l += np.sqrt(Delta**2 + (E[i+1]-E[i])**2)\n",
    "    return l\n"
   ]
  },
  {
   "cell_type": "markdown",
   "metadata": {},
   "source": [
    "### Question 10"
   ]
  },
  {
   "cell_type": "markdown",
   "metadata": {},
   "source": [
    "Notons $L_i$ la longueur à la ième simulation, \n",
    "$M_n = \\frac{\\sum_{i=1}^n L_i}{n}$ donc $M_{n+1} = \\frac{\\sum_{i=1}^{n+1} L_i}{n+1} = \\frac{nM_n + L_{i+1}}{n+1}$ \n",
    "\n",
    "avec $M_1 = L_1$\n"
   ]
  },
  {
   "cell_type": "code",
   "execution_count": 43,
   "metadata": {},
   "outputs": [
    {
     "data": {
      "image/png": "[encoded data removed]",
      "text/plain": [
       "<Figure size 432x288 with 1 Axes>"
      ]
     },
     "metadata": {
      "needs_background": "light"
     },
     "output_type": "display_data"
    }
   ],
   "source": [
    "n_simu = 100\n",
    "\n",
    "def liste_L_simu(n_simu, observation_indexes, unknown_indexes, N, Delta, a, sigma2, mu):\n",
    "    L=[]\n",
    "    for k in range(n_simu):\n",
    "        Z = simulation_conditionnelle(observation_indexes, unknown_indexes, N, Delta, a, sigma2, mu)\n",
    "        L += [longueur_cable(Z, Delta)]\n",
    "    return L\n",
    "\n",
    "L = liste_L_simu(n_simu, observation_indexes, unknown_indexes, N, Delta, a, sigma2, mu)\n",
    "\n",
    "def moyenne_simu(n_simu, observation_indexes, unknown_indexes, N, Delta, a, sigma2, mu):\n",
    "    L = liste_L_simu(n_simu, observation_indexes, unknown_indexes, N, Delta, a, sigma2, mu)\n",
    "    M = [L[0]]\n",
    "    for j in range(1,n_simu):\n",
    "        M += [((j-1)*M[j-1]+L[j])/j]\n",
    "    return M\n",
    "\n",
    "\n",
    "        \n",
    "n = [(i+1) for i in range(n_simu)]\n",
    "M = moyenne_simu(n_simu, observation_indexes, unknown_indexes, N, Delta, a, sigma2, mu)\n",
    "plt.plot(n,M)\n",
    "plt.xlabel(\"Nombre de simulations\")\n",
    "plt.ylabel(\"Moyennes des longueurs de cable\")\n",
    "plt.show()"
   ]
  },
  {
   "cell_type": "markdown",
   "metadata": {},
   "source": [
    "### Question 11"
   ]
  },
  {
   "cell_type": "code",
   "execution_count": 46,
   "metadata": {},
   "outputs": [
    {
     "data": {
      "image/png": "[encoded data removed]",
      "text/plain": [
       "<Figure size 432x288 with 1 Axes>"
      ]
     },
     "metadata": {
      "needs_background": "light"
     },
     "output_type": "display_data"
    }
   ],
   "source": [
    "L = liste_L_simu(n_simu, observation_indexes, unknown_indexes, N, Delta, a, sigma2, mu)"
   ]
  },
  {
   "cell_type": "code",
   "execution_count": null,
   "metadata": {},
   "outputs": [],
   "source": [
    "hist = plt.hist(L,bins = int(n_simu/10))"
   ]
  },
  {
   "cell_type": "markdown",
   "metadata": {},
   "source": [
    "### Question 12"
   ]
  },
  {
   "cell_type": "code",
   "execution_count": 50,
   "metadata": {},
   "outputs": [],
   "source": [
    "#Prem_ère méthode: uen méthode empirique testant dans un intervalle puis l'aggradissant tout en le gardant centré sur la moyenne\n",
    "\n",
    "def moyenne(datas):\n",
    "    moyenne = 0\n",
    "    for i in datas:\n",
    "        moyenne += i\n",
    "    return moyenne/len(datas)\n",
    "\n",
    "def interc1(datas,precision):\n",
    "    m = moyenne(datas)\n",
    "    p = 0\n",
    "    temp = 0\n",
    "    while p < 0.95:\n",
    "        p = 0\n",
    "        temp += 1\n",
    "        for i in datas:\n",
    "            if m-temp*precision/2 <= i <= m+temp*precision/2:\n",
    "                p += 1\n",
    "        p /= len(datas)\n",
    "    return [m-temp*precision/2,m+temp*precision/2]\n",
    "\n",
    "#Deuxième méthode: on utilise l'écart-type, en disant que 95% des valeurs sont comprises entre la moyenne plus ou moins 2 fois l'écart-type.\n",
    "\n",
    "\n",
    "def variance(datas):\n",
    "    m=moyenne(datas)\n",
    "    return moyenne([(x-m)**2 for x in datas])\n",
    "\n",
    "def ecarttype(datas):\n",
    "    return np.sqrt(variance(datas))\n",
    "\n",
    "def interc2(datas):\n",
    "    return [moyenne(datas)-2*ecarttype(datas),moyenne(datas)+2*ecarttype(datas)]\n"
   ]
  },
  {
   "cell_type": "code",
   "execution_count": 48,
   "metadata": {},
   "outputs": [
    {
     "data": {
      "text/plain": [
       "[543.2466849844933, 602.2486849844933]"
      ]
     },
     "execution_count": 48,
     "metadata": {},
     "output_type": "execute_result"
    }
   ],
   "source": [
    "interc1(L,0.001)"
   ]
  },
  {
   "cell_type": "code",
   "execution_count": 51,
   "metadata": {},
   "outputs": [
    {
     "data": {
      "text/plain": [
       "[542.2810770784173, 603.2142928905693]"
      ]
     },
     "execution_count": 51,
     "metadata": {},
     "output_type": "execute_result"
    }
   ],
   "source": [
    "interc2(L)"
   ]
  },
  {
   "cell_type": "code",
   "execution_count": null,
   "metadata": {},
   "outputs": [],
   "source": [
    "Les deux methodes donnent des intervalles similaire"
   ]
  },
  {
   "cell_type": "markdown",
   "metadata": {},
   "source": [
    "### Question 13"
   ]
  },
  {
   "cell_type": "code",
   "execution_count": 54,
   "metadata": {},
   "outputs": [
    {
     "data": {
      "text/plain": [
       "1.0"
      ]
     },
     "execution_count": 54,
     "metadata": {},
     "output_type": "execute_result"
    }
   ],
   "source": [
    "def estimation(longueurs):\n",
    "    compt = [1 if el >= 525 else 0 for el in longueurs]\n",
    "    return(sum(compt)/len(compt))\n",
    "\n",
    "estimation(L)"
   ]
  },
  {
   "cell_type": "markdown",
   "metadata": {},
   "source": [
    "### Question 14"
   ]
  },
  {
   "cell_type": "code",
   "execution_count": null,
   "metadata": {},
   "outputs": [],
   "source": [
    "M1000 = moyenne_simu(1000, observation_indexes, unknown_indexes, N, Delta, a, sigma2, mu)\n",
    "M10000 = moyenne_simu(10000, observation_indexes, unknown_indexes, N, Delta, a, sigma2, mu)\n",
    "M100000 = moyenne_simu(100000, observation_indexes, unknown_indexes, N, Delta, a, sigma2, mu)"
   ]
  },
  {
   "cell_type": "markdown",
   "metadata": {},
   "source": [
    "Pour 1000"
   ]
  },
  {
   "cell_type": "code",
   "execution_count": null,
   "metadata": {},
   "outputs": [],
   "source": [
    "hist = plt.hist(M1000, range = (int(min(L)) - 1, int(max(L)) + 1), bins = int(1000/10))"
   ]
  },
  {
   "cell_type": "code",
   "execution_count": null,
   "metadata": {},
   "outputs": [],
   "source": [
    "interc1(M1000,0.001)"
   ]
  },
  {
   "cell_type": "code",
   "execution_count": null,
   "metadata": {},
   "outputs": [],
   "source": [
    "interc2(M1000)"
   ]
  },
  {
   "cell_type": "code",
   "execution_count": 56,
   "metadata": {},
   "outputs": [
    {
     "ename": "NameError",
     "evalue": "name 'M1000' is not defined",
     "output_type": "error",
     "traceback": [
      "\u001b[1;31m---------------------------------------------------------------------------\u001b[0m",
      "\u001b[1;31mNameError\u001b[0m                                 Traceback (most recent call last)",
      "\u001b[1;32m<ipython-input-56-16806e2739c1>\u001b[0m in \u001b[0;36m<module>\u001b[1;34m\u001b[0m\n\u001b[1;32m----> 1\u001b[1;33m \u001b[0mestimation\u001b[0m\u001b[1;33m(\u001b[0m\u001b[0mM1000\u001b[0m\u001b[1;33m)\u001b[0m\u001b[1;33m\u001b[0m\u001b[1;33m\u001b[0m\u001b[0m\n\u001b[0m",
      "\u001b[1;31mNameError\u001b[0m: name 'M1000' is not defined"
     ]
    }
   ],
   "source": [
    "estimation(M1000)"
   ]
  },
  {
   "cell_type": "markdown",
   "metadata": {},
   "source": [
    "Pour 10000"
   ]
  },
  {
   "cell_type": "code",
   "execution_count": null,
   "metadata": {},
   "outputs": [],
   "source": [
    "hist = plt.hist(M10000, range = (int(min(L)) - 1, int(max(L)) + 1), bins = int(10000/10))"
   ]
  },
  {
   "cell_type": "code",
   "execution_count": null,
   "metadata": {},
   "outputs": [],
   "source": [
    "interc1(M10000)"
   ]
  },
  {
   "cell_type": "code",
   "execution_count": null,
   "metadata": {},
   "outputs": [],
   "source": [
    "interc2(M10000)"
   ]
  },
  {
   "cell_type": "code",
   "execution_count": null,
   "metadata": {},
   "outputs": [],
   "source": [
    "estimation(M10000)"
   ]
  },
  {
   "cell_type": "markdown",
   "metadata": {},
   "source": [
    "Pour 100000"
   ]
  },
  {
   "cell_type": "code",
   "execution_count": null,
   "metadata": {},
   "outputs": [],
   "source": [
    "hist = plt.hist(M100000, range = (int(min(L)) - 1, int(max(L)) + 1), bins = int(100000/10))"
   ]
  },
  {
   "cell_type": "code",
   "execution_count": null,
   "metadata": {},
   "outputs": [],
   "source": [
    "interc1(M100000)"
   ]
  },
  {
   "cell_type": "code",
   "execution_count": null,
   "metadata": {},
   "outputs": [],
   "source": [
    "interc2(M100000)"
   ]
  },
  {
   "cell_type": "code",
   "execution_count": null,
   "metadata": {},
   "outputs": [],
   "source": [
    "estimation(M100000)"
   ]
  },
  {
   "cell_type": "markdown",
   "metadata": {},
   "source": [
    "On peut voir que pour 100 simulations, l'histogramme n'est pas très précis et la probabilité ainsi que les intervalles diffèrent un peu des calculs avec des simulations plus nombreuses. Mais à partir de 1000 simulations, on se retrouve dans des intervalles qui sont toujours similaires avec des probabilités qui sont proches les unes des autres. De plus pour 1000 simulations les calculs sont très rapides, il n'y a pas de temps d'attente."
   ]
  }
 ],
 "metadata": {
  "kernelspec": {
   "display_name": "Python 3",
   "language": "python",
   "name": "python3"
  },
  "language_info": {
   "codemirror_mode": {
    "name": "ipython",
    "version": 3
   },
   "file_extension": ".py",
   "mimetype": "text/x-python",
   "name": "python",
   "nbconvert_exporter": "python",
   "pygments_lexer": "ipython3",
   "version": "3.7.1"
  }
 },
 "nbformat": 4,
 "nbformat_minor": 2
}
